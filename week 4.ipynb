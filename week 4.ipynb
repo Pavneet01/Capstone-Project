{
  "nbformat": 4,
  "nbformat_minor": 0,
  "metadata": {
    "colab": {
      "name": "Capstone W4.ipynb",
      "provenance": [],
      "authorship_tag": "ABX9TyP5QtR+6ojFGFlEnpWrhsjY",
      "include_colab_link": true
    },
    "kernelspec": {
      "name": "python3",
      "display_name": "Python 3"
    }
  },
  "cells": [
    {
      "cell_type": "markdown",
      "metadata": {
        "id": "view-in-github",
        "colab_type": "text"
      },
      "source": [
        "<a href=\"https://colab.research.google.com/github/Pavneet01/Capstone-Project/blob/main/Capstone_W4.ipynb\" target=\"_parent\"><img src=\"https://colab.research.google.com/assets/colab-badge.svg\" alt=\"Open In Colab\"/></a>"
      ]
    },
    {
      "cell_type": "markdown",
      "metadata": {
        "id": "5jqA4pxEmYdf"
      },
      "source": [
        "# **The Battle of Neighborhoods Week 1**"
      ]
    },
    {
      "cell_type": "markdown",
      "metadata": {
        "id": "fLUhOjHgmkGC"
      },
      "source": [
        "## **Introduction**"
      ]
    },
    {
      "cell_type": "markdown",
      "metadata": {
        "id": "V0dBqWy5mzWK"
      },
      "source": [
        "Tourism has always been a booming sector across the globe. No matter which country you live in, you can always come across a group of people, big or small, who always like to visit places. I being an adventurer myself can acknowledge this fact as to how tourism plays a salient role for a traveler/explorer. Tourism is not only an important aspect of a country’s economy but also for its global standing."
      ]
    },
    {
      "cell_type": "markdown",
      "metadata": {
        "id": "Wsbi4Grpm2Lh"
      },
      "source": [
        "**Why Tourism is important to any country? -**"
      ]
    },
    {
      "cell_type": "markdown",
      "metadata": {
        "id": "7wj-Qqbim7xQ"
      },
      "source": [
        "The tourism industry is important for the benefits it brings and due to its role as a commercial activity that creates demand and growth for many more industries. Tourism not only contributes to more economic activities but also generates more employment, revenues, and play a significant role in development.\r\n",
        "\r\n",
        "* Tourism activity creates demand\r\n",
        "* Tourism industry value chain meets & spreads demand across industries & boosts more economic activities\r\n",
        "* Tourism induces more consumption"
      ]
    },
    {
      "cell_type": "markdown",
      "metadata": {
        "id": "ay-pad8_nD2h"
      },
      "source": [
        "## **Business Problem**"
      ]
    },
    {
      "cell_type": "markdown",
      "metadata": {
        "id": "Fdbwye0MnP0E"
      },
      "source": [
        "\r\n",
        "All the benefits of tourism tend to reflect on the employment opportunity which it gives to the people of that country. The objective of this project is to analyze the tourist places of a given state in India and try to recommend the best location where they can open a restaurant or lodging to make the best use of the opportunity.\r\n",
        "\r\n",
        "The target audience for this project include people who are interested in opening a restaurant, lodging, transport services or any other similar businesses which fall within the tourism industry"
      ]
    },
    {
      "cell_type": "markdown",
      "metadata": {
        "id": "QCxI0m_anXf7"
      },
      "source": [
        "## **Data Anatomization**"
      ]
    },
    {
      "cell_type": "markdown",
      "metadata": {
        "id": "qo8sbzqkncpr"
      },
      "source": [
        "To tackle the above mentioned problem, we need to have the dataset that contains\r\n",
        "\r\n",
        "+ All the districts of a particular country\r\n",
        "+ Latitude and longitudes of all the districts\r\n"
      ]
    },
    {
      "cell_type": "markdown",
      "metadata": {
        "id": "lv_mFcw0oNGU"
      },
      "source": [
        "**Description of the data -**"
      ]
    },
    {
      "cell_type": "markdown",
      "metadata": {
        "id": "gQm9-T_ToTEj"
      },
      "source": [
        "The output shows the final dataset . The dataset consists of a single Dataframe with 9 columns containing state, districts, latitude and longitudes of the particular district etc. Other columns like code, headquarters, population, area and density have also been scraped from the website which can be used for further analysis."
      ]
    },
    {
      "cell_type": "code",
      "metadata": {
        "id": "t6UNyeqWoY6Z",
        "colab": {
          "base_uri": "https://localhost:8080/",
          "height": 204
        },
        "outputId": "5547d43e-ca6e-4ad7-feca-7c3a0d654fa8"
      },
      "source": [
        "import pandas as pd\r\n",
        "df = pd.read_csv('/content/table-1.csv')\r\n",
        "df.head()"
      ],
      "execution_count": 4,
      "outputs": [
        {
          "output_type": "execute_result",
          "data": {
            "text/html": [
              "<div>\n",
              "<style scoped>\n",
              "    .dataframe tbody tr th:only-of-type {\n",
              "        vertical-align: middle;\n",
              "    }\n",
              "\n",
              "    .dataframe tbody tr th {\n",
              "        vertical-align: top;\n",
              "    }\n",
              "\n",
              "    .dataframe thead th {\n",
              "        text-align: right;\n",
              "    }\n",
              "</style>\n",
              "<table border=\"1\" class=\"dataframe\">\n",
              "  <thead>\n",
              "    <tr style=\"text-align: right;\">\n",
              "      <th></th>\n",
              "      <th>Map key</th>\n",
              "      <th>Name of State or Union Territory</th>\n",
              "      <th>Number of Districts</th>\n",
              "      <th>Population</th>\n",
              "      <th>Population/district</th>\n",
              "    </tr>\n",
              "  </thead>\n",
              "  <tbody>\n",
              "    <tr>\n",
              "      <th>0</th>\n",
              "      <td>1</td>\n",
              "      <td>Andhra Pradesh</td>\n",
              "      <td>13</td>\n",
              "      <td>49,386,799</td>\n",
              "      <td>3,798,985</td>\n",
              "    </tr>\n",
              "    <tr>\n",
              "      <th>1</th>\n",
              "      <td>2</td>\n",
              "      <td>Arunachal Pradesh</td>\n",
              "      <td>25</td>\n",
              "      <td>1,383,727</td>\n",
              "      <td>57,656</td>\n",
              "    </tr>\n",
              "    <tr>\n",
              "      <th>2</th>\n",
              "      <td>3</td>\n",
              "      <td>Assam</td>\n",
              "      <td>34</td>\n",
              "      <td>31,169,272</td>\n",
              "      <td>944,523</td>\n",
              "    </tr>\n",
              "    <tr>\n",
              "      <th>3</th>\n",
              "      <td>4</td>\n",
              "      <td>Bihar</td>\n",
              "      <td>38</td>\n",
              "      <td>104,099,452</td>\n",
              "      <td>2,739,459</td>\n",
              "    </tr>\n",
              "    <tr>\n",
              "      <th>4</th>\n",
              "      <td>5</td>\n",
              "      <td>Chhattisgarh</td>\n",
              "      <td>28</td>\n",
              "      <td>25,545,198</td>\n",
              "      <td>946,118</td>\n",
              "    </tr>\n",
              "  </tbody>\n",
              "</table>\n",
              "</div>"
            ],
            "text/plain": [
              "  Map key Name of State or Union Territory  ...   Population Population/district\n",
              "0       1                   Andhra Pradesh  ...   49,386,799           3,798,985\n",
              "1       2                Arunachal Pradesh  ...    1,383,727              57,656\n",
              "2       3                            Assam  ...   31,169,272             944,523\n",
              "3       4                            Bihar  ...  104,099,452           2,739,459\n",
              "4       5                     Chhattisgarh  ...   25,545,198             946,118\n",
              "\n",
              "[5 rows x 5 columns]"
            ]
          },
          "metadata": {
            "tags": []
          },
          "execution_count": 4
        }
      ]
    },
    {
      "cell_type": "markdown",
      "metadata": {
        "id": "4bwGWtCXoUeL"
      },
      "source": [
        ""
      ]
    },
    {
      "cell_type": "code",
      "metadata": {
        "id": "kSqJQ0g4mz8R"
      },
      "source": [
        ""
      ],
      "execution_count": 3,
      "outputs": []
    },
    {
      "cell_type": "code",
      "metadata": {
        "id": "vcXdWGWEmh3C"
      },
      "source": [
        ""
      ],
      "execution_count": 3,
      "outputs": []
    }
  ]
}
